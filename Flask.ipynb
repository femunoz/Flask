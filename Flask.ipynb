{
 "cells": [
  {
   "cell_type": "markdown",
   "metadata": {},
   "source": [
    "# Flask Framework\n",
    "\n",
    "_\"Flask es un framework minimalista escrito en Python que permite crear aplicaciones web rápidamente y con un mínimo número de líneas de código. Está basado en la especificación WSGI de Werkzeug y el motor de templates Jinja2 y tiene una licencia BSD._ (Wikipedia: https://es.wikipedia.org/wiki/Flask)\n",
    "\n",
    "### ¿Framework?\n",
    "\n",
    "_\"Un entorno de trabajo​ (del inglés framework) o marco de trabajo​ es un conjunto estandarizado de conceptos, prácticas y criterios para enfocar un tipo de problemática particular que sirve como referencia, para enfrentar y resolver nuevos problemas de índole similar.=_\n",
    "\n",
    "_En el desarrollo de software, un entorno de trabajo es una estructura conceptual y tecnológica de asistencia definida, normalmente, con artefactos o módulos concretos de software, que puede servir de base para la organización y desarrollo de software. Típicamente, puede incluir soporte de programas, bibliotecas, y un lenguaje interpretado, entre otras herramientas, para así ayudar a desarrollar y unir los diferentes componentes de un proyecto._\n",
    "\n",
    "_Representa una arquitectura de software que modela las relaciones generales de las entidades del dominio, y provee una estructura y una especial metodología de trabajo, la cual extiende o utiliza las aplicaciones del dominio.​_\"\n",
    "\n",
    "Extracto de https://es.wikipedia.org/wiki/Framework\n",
    "\n",
    "### ¿WSGI?\n",
    "\n",
    "![WSGI](./imagenes/web_browser_server_wsgi.png)\n",
    "\n",
    "Más información en: https://entrenamiento-frameworks-web-python.readthedocs.io/es/latest/leccion4/introduccion_wsgi.html#servidor-wsgi\n",
    "\n",
    "### Instalación:\n",
    "\n",
    "Teniendo Python instalado en nuestro sistema, basta con utilizar el comando para instalar paquetes de Python, `pip`, de la siguiente forma:\n",
    "\n",
    "```\n",
    "$ pip install Flask\n",
    "```\n",
    "\n"
   ]
  },
  {
   "cell_type": "markdown",
   "metadata": {},
   "source": [
    "### ¡Hola mundo!\n",
    "\n",
    "Copie y pegue el código a continuación en su IDE o editor de texto favorito y guarde el archivo como \"mi_primera_app.py\"."
   ]
  },
  {
   "cell_type": "code",
   "execution_count": 1,
   "metadata": {},
   "outputs": [],
   "source": [
    "from flask import Flask\n",
    "\n",
    "app = Flask(__name__)\n",
    "\n",
    "@app.route(\"/\")\n",
    "def hola_mundo():\n",
    "    return \"<p>¡Hola Mundo!</p>\""
   ]
  },
  {
   "cell_type": "markdown",
   "metadata": {},
   "source": [
    "Luego vaya a la línea de comandos y ejecute el servidor de Flask usando el siguiente comando:\n",
    "\n",
    "`flask --app mi_primera_app run`\n",
    "\n",
    "Finalmente acceda en su navegador web favorito a:\n",
    "\n",
    "`http://localhost:5000/`\n",
    "\n"
   ]
  },
  {
   "cell_type": "markdown",
   "metadata": {},
   "source": [
    "Vamos ahora a ver qué es lo que hace cada línea del código anterior."
   ]
  },
  {
   "cell_type": "markdown",
   "metadata": {},
   "source": []
  }
 ],
 "metadata": {
  "kernelspec": {
   "display_name": "base",
   "language": "python",
   "name": "python3"
  },
  "language_info": {
   "codemirror_mode": {
    "name": "ipython",
    "version": 3
   },
   "file_extension": ".py",
   "mimetype": "text/x-python",
   "name": "python",
   "nbconvert_exporter": "python",
   "pygments_lexer": "ipython3",
   "version": "3.11.5"
  }
 },
 "nbformat": 4,
 "nbformat_minor": 2
}
