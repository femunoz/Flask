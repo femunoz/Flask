{
 "cells": [
  {
   "cell_type": "markdown",
   "metadata": {
    "slideshow": {
     "slide_type": "slide"
    }
   },
   "source": [
    "# Flask Framework\n",
    "\n",
    "_\"Flask es un framework minimalista escrito en Python que permite crear aplicaciones web rápidamente y con un mínimo número de líneas de código. Está basado en la especificación WSGI de Werkzeug y el motor de templates Jinja2 y tiene una licencia BSD._ (Wikipedia: https://es.wikipedia.org/wiki/Flask)\n"
   ]
  },
  {
   "cell_type": "markdown",
   "metadata": {
    "slideshow": {
     "slide_type": "slide"
    }
   },
   "source": [
    "### ¿Framework?\n",
    "\n",
    "_\"Un entorno de trabajo​ (del inglés framework) o marco de trabajo​ es un conjunto estandarizado de conceptos, prácticas y criterios para enfocar un tipo de problemática particular que sirve como referencia, para enfrentar y resolver nuevos problemas de índole similar.=_\n",
    "\n",
    "_En el desarrollo de software, un entorno de trabajo es una estructura conceptual y tecnológica de asistencia definida, normalmente, con artefactos o módulos concretos de software, que puede servir de base para la organización y desarrollo de software. Típicamente, puede incluir soporte de programas, bibliotecas, y un lenguaje interpretado, entre otras herramientas, para así ayudar a desarrollar y unir los diferentes componentes de un proyecto._\n",
    "\n",
    "_Representa una arquitectura de software que modela las relaciones generales de las entidades del dominio, y provee una estructura y una especial metodología de trabajo, la cual extiende o utiliza las aplicaciones del dominio.​_\"\n",
    "\n",
    "Extracto de https://es.wikipedia.org/wiki/Framework"
   ]
  },
  {
   "cell_type": "markdown",
   "metadata": {
    "slideshow": {
     "slide_type": "slide"
    }
   },
   "source": [
    "### ¿WSGI?\n",
    "\n",
    "![WSGI](./imagenes/web_browser_server_wsgi.png)\n",
    "\n",
    "Más información en: https://entrenamiento-frameworks-web-python.readthedocs.io/es/latest/leccion4/introduccion_wsgi.html#servidor-wsgi\n",
    "\n",
    "### Instalación:\n",
    "\n",
    "Teniendo Python instalado en nuestro sistema, basta con utilizar el comando para instalar paquetes de Python, `pip`, de la siguiente forma:\n",
    "\n",
    "```\n",
    "$ pip install Flask\n",
    "```"
   ]
  },
  {
   "cell_type": "markdown",
   "metadata": {
    "slideshow": {
     "slide_type": "slide"
    }
   },
   "source": [
    "### ¡Hola mundo!\n",
    "\n",
    "(Fuente: https://flask.palletsprojects.com/en/3.0.x/quickstart/)\n",
    "\n",
    "Copie y pegue el código a continuación en su IDE o editor de texto favorito y guarde el archivo como \"mi_primera_app.py\"."
   ]
  },
  {
   "cell_type": "code",
   "execution_count": 1,
   "metadata": {
    "slideshow": {
     "slide_type": "slide"
    }
   },
   "outputs": [],
   "source": [
    "from flask import Flask\n",
    "\n",
    "app = Flask(__name__)\n",
    "\n",
    "@app.route(\"/\")\n",
    "def hola_mundo():\n",
    "    return \"<p>¡Hola Mundo!</p>\""
   ]
  },
  {
   "cell_type": "markdown",
   "metadata": {
    "slideshow": {
     "slide_type": "slide"
    }
   },
   "source": [
    "Luego vaya a la línea de comandos, ingrese al directorio donde guardó \"mi_primera_app.py\" y ejecute el servidor de Flask usando el siguiente comando:\n",
    "\n",
    "`flask --app mi_primera_app run`\n",
    "\n",
    "Finalmente acceda en su navegador web favorito a:\n",
    "\n",
    "`http://localhost:5000/`\n",
    "\n"
   ]
  },
  {
   "cell_type": "markdown",
   "metadata": {
    "slideshow": {
     "slide_type": "slide"
    }
   },
   "source": [
    "Vamos ahora a ver qué es lo que hace cada línea del código anterior."
   ]
  },
  {
   "cell_type": "markdown",
   "metadata": {},
   "source": [
    "1. Primero se importa la clase Flask. Una instancia de esta clase (en el ej. guardada en la variable `app`) será nuestra aplicación .\n",
    "2. Creamos una instancia de esta clase, cuyo primer argumento es el nombre del módulo o paque de la aplicación. Se sugiere usar el parámetro `__name__`.\n",
    "3. Se utiliza el _decorator_ `route()` para darle la instrucción a Flash sobre qué URL va llamar a nuestra función, cuyo nombre es `hola_mundo()` en el ejemplo.\n",
    "4. Esta función entrega el mensaje que queremos desplegar en el navegador del usuario.\n"
   ]
  }
 ],
 "metadata": {
  "kernelspec": {
   "display_name": "Python 3 (ipykernel)",
   "language": "python",
   "name": "python3"
  },
  "language_info": {
   "codemirror_mode": {
    "name": "ipython",
    "version": 3
   },
   "file_extension": ".py",
   "mimetype": "text/x-python",
   "name": "python",
   "nbconvert_exporter": "python",
   "pygments_lexer": "ipython3",
   "version": "3.11.5"
  }
 },
 "nbformat": 4,
 "nbformat_minor": 4
}
